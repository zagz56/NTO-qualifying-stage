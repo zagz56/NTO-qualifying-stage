{
 "cells": [
  {
   "cell_type": "code",
   "execution_count": 14,
   "metadata": {},
   "outputs": [
    {
     "name": "stdout",
     "output_type": "stream",
     "text": [
      "3\n"
     ]
    }
   ],
   "source": [
    "def find_collision(y0, x0, v0_y, v0_x):\n",
    "    return y0 * v0_y == x0 * v0_x\n",
    "\n",
    "n = int(input())  # Число частиц на оси Y\n",
    "starting_position_y = list(map(int, input().split()))\n",
    "starting_speed_y = list(map(int, input().split()))\n",
    "\n",
    "m = int(input())  # Число частиц на оси X\n",
    "starting_position_x = list(map(int, input().split()))\n",
    "starting_speed_x = list(map(int, input().split()))\n",
    "\n",
    "collisions_x = set()\n",
    "collisions_y = set()\n",
    "\n",
    "for i in range(n):\n",
    "    for j in range(m):\n",
    "        if find_collision(\n",
    "            starting_position_y[i],\n",
    "            starting_position_x[j],\n",
    "            starting_speed_y[i],\n",
    "            starting_speed_x[j],\n",
    "        ):\n",
    "            collisions_y.add(i)\n",
    "            collisions_x.add(j)\n",
    "\n",
    "print(min(len(collisions_x), len(collisions_y)))"
   ]
  }
 ],
 "metadata": {
  "kernelspec": {
   "display_name": "Python 3",
   "language": "python",
   "name": "python3"
  },
  "language_info": {
   "codemirror_mode": {
    "name": "ipython",
    "version": 3
   },
   "file_extension": ".py",
   "mimetype": "text/x-python",
   "name": "python",
   "nbconvert_exporter": "python",
   "pygments_lexer": "ipython3",
   "version": "3.12.0"
  }
 },
 "nbformat": 4,
 "nbformat_minor": 2
}
