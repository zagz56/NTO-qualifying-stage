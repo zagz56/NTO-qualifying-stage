{
 "cells": [
  {
   "cell_type": "code",
   "execution_count": 54,
   "metadata": {},
   "outputs": [
    {
     "name": "stdout",
     "output_type": "stream",
     "text": [
      "59\n"
     ]
    }
   ],
   "source": [
    "# t = int(input())\n",
    "t = 1\n",
    "\n",
    "for _ in range(t):\n",
    "    # a0, b0, c0, d0 = map(int, input().split())\n",
    "    a0, b0, c0, d0 = 6, 7, 14, 1\n",
    "    T1 = a0 + b0\n",
    "    T2 = c0 + d0\n",
    "    flag_1 = True\n",
    "    flag_2 = True\n",
    "    a, b, c, d = a0, T1, c0, T2\n",
    "    step = min(a0, b0, c0, d0)\n",
    "    time = min(a, c)\n",
    "\n",
    "    while (flag_1 == True) or (flag_2 == True):\n",
    "        if time == a:\n",
    "            flag_1 = False\n",
    "            a = a + T1\n",
    "        if time == c:\n",
    "            flag_2 = False\n",
    "            c = c + T2\n",
    "        if time == b:\n",
    "            flag_1 = True\n",
    "            b = b + T1\n",
    "        if time == d:\n",
    "            flag_2 = True\n",
    "            d = d + T2\n",
    "        time += step\n",
    "\n",
    "    print(time - 1)"
   ]
  }
 ],
 "metadata": {
  "kernelspec": {
   "display_name": "Python 3",
   "language": "python",
   "name": "python3"
  },
  "language_info": {
   "codemirror_mode": {
    "name": "ipython",
    "version": 3
   },
   "file_extension": ".py",
   "mimetype": "text/x-python",
   "name": "python",
   "nbconvert_exporter": "python",
   "pygments_lexer": "ipython3",
   "version": "3.12.0"
  }
 },
 "nbformat": 4,
 "nbformat_minor": 2
}
